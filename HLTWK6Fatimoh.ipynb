{
 "cells": [
  {
   "cell_type": "markdown",
   "metadata": {},
   "source": [
    "https://public.tableau.com/app/profile/fatimoh.k./viz/SurvivalDashboard_16489928809430/Dashboard1?publish=yes\n",
    "\n",
    "Then create a markdown cell explain why you have decided on the design choices, what influenced your decisions and what insights have you found from the data"
   ]
  },
  {
   "cell_type": "markdown",
   "metadata": {},
   "source": [
    "Go to: https://www.kaggle.com/datasets ​\n",
    "\n",
    "Select a dataset.​\n",
    "\n",
    "Then create a data dashboard using Altair or Tableau  https://public.tableau.com/en-us/s/ ​\n",
    "\n",
    "Then create a markdown cell explain why you have decided on the design choices, what influenced your decisions and what insights have you found from the data.​"
   ]
  },
  {
   "cell_type": "markdown",
   "metadata": {},
   "source": [
    "https://public.tableau.com/app/profile/fatimoh.k./viz/SurvivalDashboard_16489928809430/Dashboard1?publish=yes\n",
    "\n",
    "why you have decided on the design choices\n",
    "I used the design because it is easy to read and conveys a lot of information .\n",
    "\n",
    "I was also able to predict the age range of those who survived and did not survive. \n",
    "\n",
    "Because the data was in graphics, it was easy to spot differences. \n"
   ]
  }
 ],
 "metadata": {
  "language_info": {
   "name": "python"
  },
  "orig_nbformat": 4
 },
 "nbformat": 4,
 "nbformat_minor": 2
}
