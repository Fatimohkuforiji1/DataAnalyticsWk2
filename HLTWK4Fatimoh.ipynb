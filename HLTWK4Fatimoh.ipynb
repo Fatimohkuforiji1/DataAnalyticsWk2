{
 "cells": [
  {
   "cell_type": "code",
   "execution_count": 15,
   "metadata": {},
   "outputs": [],
   "source": [
    "# Writing in a file\n",
    "\n",
    "myFile =open(\"myFirstTextFile.txt\", \"w\")\n",
    "\n",
    "myFile.write(str(\"3\\n\"))\n",
    "myFile.write(str(\"45\\n\"))\n",
    "myFile.write(str(\"83\\n\"))\n",
    "myFile.write(str(\"21\\n\"))\n",
    "\n",
    "myFile.close()"
   ]
  },
  {
   "cell_type": "code",
   "execution_count": 16,
   "metadata": {},
   "outputs": [
    {
     "name": "stdout",
     "output_type": "stream",
     "text": [
      "2\n"
     ]
    }
   ],
   "source": [
    "#Reading from a file\n",
    "\n",
    "with open(\"myFirstTextFile.txt\", \"r\") as readMyFile:\n",
    "    data = readMyFile.read().replace('\\n', ',')\n",
    "\n",
    "readMyFile.close() \n",
    "\n",
    "print(data[-3])"
   ]
  },
  {
   "cell_type": "code",
   "execution_count": 17,
   "metadata": {},
   "outputs": [],
   "source": [
    "# Appending\n",
    "myFile = open(\"myFirstTextFile.txt\", \"a\")\n",
    "myFile.write(\"How are you?\")\n",
    "myFile.close()"
   ]
  },
  {
   "cell_type": "code",
   "execution_count": 2,
   "metadata": {},
   "outputs": [
    {
     "name": "stdout",
     "output_type": "stream",
     "text": [
      "You' got  20.0%\n"
     ]
    }
   ],
   "source": [
    "# Write a program to ask a student for their percentage mark and convert this to a grade.\n",
    "# The conversion will be done in a function called mark_grade \n",
    "\n",
    "def percentage(part, whole):\n",
    "  percentage = 100 * float(part)/float(whole)\n",
    "  return str(percentage) + \"%\"\n",
    "\n",
    "# print(percentage(3, 5))\n",
    "\n",
    "# Input your mark\n",
    "userInputPart = float(input(\"Your Marks = \"))\n",
    "userInputWhole =  float(input(\"Total Marks Marks = \"))\n",
    "total = percentage(userInputPart, userInputWhole)\n",
    "print(\"You got \" , total)"
   ]
  }
 ],
 "metadata": {
  "language_info": {
   "name": "python"
  },
  "orig_nbformat": 4
 },
 "nbformat": 4,
 "nbformat_minor": 2
}
