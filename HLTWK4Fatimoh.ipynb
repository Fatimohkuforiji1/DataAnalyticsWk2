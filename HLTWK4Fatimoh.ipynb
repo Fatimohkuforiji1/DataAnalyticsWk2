{
 "cells": [
  {
   "cell_type": "code",
   "execution_count": 1,
   "metadata": {},
   "outputs": [],
   "source": [
    "# Writing in a file\n",
    "\n",
    "myFile =open(\"myFirstTextFile.txt\", \"w\")\n",
    "\n",
    "myFile.write(str(\"3\\n\"))\n",
    "myFile.write(str(\"45\\n\"))\n",
    "myFile.write(str(\"83\\n\"))\n",
    "myFile.write(str(\"21\\n\"))\n",
    "\n",
    "myFile.close()"
   ]
  },
  {
   "cell_type": "code",
   "execution_count": 3,
   "metadata": {},
   "outputs": [
    {
     "name": "stdout",
     "output_type": "stream",
     "text": [
      "2\n"
     ]
    }
   ],
   "source": [
    "#Reading from a file\n",
    "\n",
    "with open(\"myFirstTextFile.txt\", \"r\") as readMyFile:\n",
    "    data = readMyFile.read().replace('\\n', ',')\n",
    "\n",
    "readMyFile.close() \n",
    "\n",
    "print(data[-3])"
   ]
  },
  {
   "cell_type": "code",
   "execution_count": 4,
   "metadata": {},
   "outputs": [],
   "source": [
    "# Appending\n",
    "myFile = open(\"myFirstTextFile.txt\", \"a\")\n",
    "myFile.write(\"How are you?\")\n",
    "myFile.close()"
   ]
  },
  {
   "cell_type": "code",
   "execution_count": 5,
   "metadata": {},
   "outputs": [
    {
     "name": "stdout",
     "output_type": "stream",
     "text": [
      "You got  56.0%\n"
     ]
    }
   ],
   "source": [
    "# Write a program to ask a student for their percentage mark and convert this to a grade.\n",
    "# The conversion will be done in a function called mark_grade \n",
    "def percentage(part, whole):\n",
    "  percentage = 100 * float(part)/float(whole)\n",
    "  return str(percentage) + \"%\"\n",
    "\n",
    "# print(percentage(3, 5))\n",
    "\n",
    "# Input your mark\n",
    "\n",
    "userInputPart = float(input(\"Your Marks = \"))\n",
    "userInputWhole =  float(input(\"Total Marks Marks = \"))\n",
    "\n",
    "total = percentage(userInputPart, userInputWhole)\n",
    "\n",
    "print(\"You got \" , total)"
   ]
  },
  {
   "cell_type": "code",
   "execution_count": 7,
   "metadata": {},
   "outputs": [
    {
     "name": "stdout",
     "output_type": "stream",
     "text": [
      "[0 1 2 3 4 5 6 7 8 9]\n"
     ]
    }
   ],
   "source": [
    "#  Create a 1D array of numbers from 0 to 9​\n",
    "\n",
    "import numpy as np\n",
    "\n",
    "array = np.arange(10)\n",
    "print(array)"
   ]
  },
  {
   "cell_type": "code",
   "execution_count": 8,
   "metadata": {},
   "outputs": [
    {
     "name": "stdout",
     "output_type": "stream",
     "text": [
      "Numpy Array: \n",
      "[[ True  True  True]\n",
      " [ True  True  True]\n",
      " [ True  True  True]]\n",
      "2D Numpy Array: \n",
      "[[ True  True  True]\n",
      " [ True  True  True]\n",
      " [ True  True  True]]\n"
     ]
    }
   ],
   "source": [
    "# Create a 3×3 NumPy array of all Boolean value Trues​\n",
    "\n",
    "boolArray = np.ones(9, dtype=bool)  # Create a Numpy array of 10 True values\n",
    "newArray = boolArray.reshape(3, 3)  \n",
    "print('Numpy Array: ')\n",
    "print(newArray)\n",
    "\n",
    "# Another method\n",
    "# Create a 3X3 Numpy array of 3 rows & 3 columns with all True values\n",
    "bool_arr = np.ones((3,3), dtype=bool)\n",
    "print('2D Numpy Array: ')\n",
    "print(bool_arr)\n"
   ]
  },
  {
   "cell_type": "code",
   "execution_count": 9,
   "metadata": {},
   "outputs": [
    {
     "name": "stdout",
     "output_type": "stream",
     "text": [
      "Array with Odd Numbers: [1 3 5 7 9]\n"
     ]
    }
   ],
   "source": [
    "# Extract all odd numbers from array of 1-10​\n",
    "array = np.arange(10)\n",
    "oddNum = np.where(array%2 == 1)\n",
    "print(f'Array with Odd Numbers: {array[oddNum]}')\n"
   ]
  },
  {
   "cell_type": "code",
   "execution_count": 10,
   "metadata": {},
   "outputs": [
    {
     "name": "stdout",
     "output_type": "stream",
     "text": [
      "[ 1 -1  3 -1  5 -1  7 -1  9]\n"
     ]
    }
   ],
   "source": [
    "\n",
    "# Replace all odd numbers in an array of 1-10 with the value -1​\n",
    "array = np.arange(1, 10)\n",
    "for i in range(len(array)): \n",
    "    if( i % 2 == 1): \n",
    "        array[i]=-1 \n",
    " \n",
    "print(array)"
   ]
  },
  {
   "cell_type": "code",
   "execution_count": 11,
   "metadata": {},
   "outputs": [
    {
     "name": "stdout",
     "output_type": "stream",
     "text": [
      "[[0 1 2 3 4]\n",
      " [5 6 7 8 9]]\n"
     ]
    }
   ],
   "source": [
    "# Convert a 1D array to a 2D array with 2 rows​\n",
    "\n",
    "array = np. array([0, 1, 2, 3, 4, 5, 6, 7, 8, 9])\n",
    "# Convert 1D array to a 2D numpy array of 2 rows and 3 columns.\n",
    "array_2d = np. reshape(array, (2, 5))\n",
    "print(array_2d)"
   ]
  },
  {
   "cell_type": "code",
   "execution_count": 12,
   "metadata": {},
   "outputs": [
    {
     "name": "stdout",
     "output_type": "stream",
     "text": [
      "Total :  735\n"
     ]
    }
   ],
   "source": [
    "# Create two arrays a and b, stack these two arrays vertically use the  np.dot and np.sum to calculate totals\n",
    "\n",
    "a = np. array([0, 1, 2, 3, 4, 5, 6, 7, 8, 9])\n",
    "b = np. array([10, 11, 12, 13, 14, 15, 16, 17, 18, 19])\n",
    "c = np.dot(a, b)\n",
    "\n",
    "sum = np.sum(c)\n",
    "print(\"Total : \", sum)"
   ]
  }
 ],
 "metadata": {
  "interpreter": {
   "hash": "cf87402a6e9c752c62be5c11867f1b135ddf694774839bc03f72f307f1d8dafb"
  },
  "kernelspec": {
   "display_name": "Python 3.10.2 64-bit",
   "language": "python",
   "name": "python3"
  },
  "language_info": {
   "codemirror_mode": {
    "name": "ipython",
    "version": 3
   },
   "file_extension": ".py",
   "mimetype": "text/x-python",
   "name": "python",
   "nbconvert_exporter": "python",
   "pygments_lexer": "ipython3",
   "version": "3.10.4"
  },
  "orig_nbformat": 4
 },
 "nbformat": 4,
 "nbformat_minor": 2
}
