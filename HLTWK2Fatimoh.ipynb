{
 "cells": [
  {
   "cell_type": "code",
   "execution_count": 40,
   "metadata": {},
   "outputs": [
    {
     "name": "stdout",
     "output_type": "stream",
     "text": [
      "Oops! You entered 4 The correct random number is  5\n"
     ]
    }
   ],
   "source": [
    "#Task 1\n",
    "\n",
    "import random;\n",
    "\n",
    "randomNum = random.randint(1, 10)\n",
    "userInput = input(\"What is your name, please?\")\n",
    "userInputInt = input(\"Guess the number between 1 - 10\") \n",
    "userInputRandomNum = (int (userInputInt))\n",
    "if (userInputRandomNum == randomNum ) : {\n",
    "    print (\"You guess the random number correctly\")\n",
    "}\n",
    "else :\n",
    "    print(\"Oops! You entered\" , userInputRandomNum , \"The correct random number is \", randomNum )\n"
   ]
  },
  {
   "cell_type": "code",
   "execution_count": 38,
   "metadata": {},
   "outputs": [
    {
     "name": "stdout",
     "output_type": "stream",
     "text": [
      "Practice makes perfect\n"
     ]
    }
   ],
   "source": [
    "# Task 2\n",
    "\n",
    "userInput2 = input(\"What is your favorite number between 1 - 100\")\n",
    "userInputInt2 = (int (userInput2))\n",
    "\n",
    "if (userInputInt2 >= 1 and userInputInt2  <= 30): {\n",
    "    print (\"Practice makes perfect\")\n",
    "}\n",
    "elif (userInputInt2 >=31 and userInputInt2 <=60): {\n",
    "    print (\"You can do better\")\n",
    "}\n",
    "elif (userInputInt2 >= 61 and userInputInt2 <= 100): {\n",
    "    print (\"Keep pushing\")\n",
    "}\n",
    "else:{\n",
    "    print (\"You got it right\")\n",
    "}\n",
    "    "
   ]
  },
  {
   "cell_type": "code",
   "execution_count": 37,
   "metadata": {},
   "outputs": [
    {
     "name": "stdout",
     "output_type": "stream",
     "text": [
      "Your favorite meal is  French fries + orange juice , Rice , Cake , with a glass of  Water .\n"
     ]
    }
   ],
   "source": [
    "#Task 3\n",
    "\n",
    "userInputStarter = input(\"What is your favorite starter\")\n",
    "userInputMainCourse = input(\"What is your favorite mainCourse\")\n",
    "userInputDessert = input(\"What is your favorite dessert\")\n",
    "userInputDrink = input(\"What is your favorite drink\")\n",
    "\n",
    "print (\"Your favorite meal is \", userInputStarter, \",\" ,userInputMainCourse, \",\" ,userInputDessert, \", with a glass of \", userInputDrink,\".\" )\n",
    "\n"
   ]
  },
  {
   "cell_type": "code",
   "execution_count": 43,
   "metadata": {},
   "outputs": [
    {
     "name": "stdout",
     "output_type": "stream",
     "text": [
      "[0, 1, 2, 3, 4, 5, 6, 7, 8, 9]\n",
      "Value after each year is  1800.0\n",
      "\n",
      "Value after each year is  1435.0\n",
      "\n",
      "Value after each year is  1070.0\n",
      "\n"
     ]
    }
   ],
   "source": [
    "# Task 4​\n",
    "\n",
    "# A motorbike costs £2000 and loses 10% of its value every year.\n",
    "#  Using a loop, print the value of the bike every following year \n",
    "#  until it falls below £1000.\n",
    "\n",
    "range(0,10)\n",
    "print(list(range(0, 10)))\n",
    "\n",
    "motorBike = 2000\n",
    "percentageLoss = (10/100 * motorBike) \n",
    "\n",
    "while motorBike > 1000:\n",
    "    print( \"Value after each year is \", motorBike - percentageLoss)\n",
    "    print( )\n",
    "    motorBike = motorBike - 365"
   ]
  },
  {
   "cell_type": "code",
   "execution_count": 36,
   "metadata": {},
   "outputs": [
    {
     "name": "stdout",
     "output_type": "stream",
     "text": [
      "The addition value of your input is 76\n",
      "The subtraction value of your input is 12\n"
     ]
    }
   ],
   "source": [
    "# Task 5​\n",
    "\n",
    "# Write a program which will ask for two numbers from a user. \n",
    "# Then offer a menu to the user giving them a choice of operator:​\n",
    "# e.g. – Enter “a” if you want to add​\n",
    "#  “b” if you want to subtract​\n",
    "# Include +, -, /, *, ** square (to the power of).\n",
    "#  Once the user has selected which operator they wish to use, \n",
    "#  perform the calculation\n",
    "\n",
    "userInputChoiceA = input(\"Please enter your amount for addition\")\n",
    "userInputIntA = int(userInputChoiceA)\n",
    "\n",
    "userInputChoiceB = input(\"Please enter your amount for subtraction\")\n",
    "userInputIntB = int(userInputChoiceB)\n",
    "\n",
    "addtionInput = ((3+ 5) * 3 **2) + userInputIntA\n",
    "print(\"The addition value of your input is\", addtionInput)\n",
    "\n",
    "subtractionInput = ((5**2) - 7) - userInputIntB\n",
    "print(\"The subtraction value of your input is\", subtractionInput)"
   ]
  }
 ],
 "metadata": {
  "interpreter": {
   "hash": "cf87402a6e9c752c62be5c11867f1b135ddf694774839bc03f72f307f1d8dafb"
  },
  "kernelspec": {
   "display_name": "Python 3.10.2 64-bit",
   "language": "python",
   "name": "python3"
  },
  "language_info": {
   "codemirror_mode": {
    "name": "ipython",
    "version": 3
   },
   "file_extension": ".py",
   "mimetype": "text/x-python",
   "name": "python",
   "nbconvert_exporter": "python",
   "pygments_lexer": "ipython3",
   "version": "3.10.2"
  },
  "orig_nbformat": 4
 },
 "nbformat": 4,
 "nbformat_minor": 2
}
