{
 "cells": [
  {
   "cell_type": "code",
   "execution_count": 29,
   "metadata": {},
   "outputs": [
    {
     "name": "stdout",
     "output_type": "stream",
     "text": [
      "You guess the random number correctly\n"
     ]
    }
   ],
   "source": [
    "#Task 1\n",
    "\n",
    "import random;\n",
    "\n",
    "randomNum = random.randint(1, 10)\n",
    "userInput = input(\"What is your name, please?\")\n",
    "userInputInt = input(\"Guess the number between 1 - 10\") \n",
    "userInputRandomNum = (int (userInputInt))\n",
    "if (userInputRandomNum == randomNum ) : {\n",
    "    print (\"You guess the random number correctly\")\n",
    "}\n",
    "else :\n",
    "    print(\"Oops! You entered\" , userInputRandomNum , \"The correct random number is \", randomNum )\n"
   ]
  },
  {
   "cell_type": "code",
   "execution_count": 23,
   "metadata": {},
   "outputs": [
    {
     "name": "stdout",
     "output_type": "stream",
     "text": [
      "You can do better\n"
     ]
    }
   ],
   "source": [
    "# Task 2\n",
    "\n",
    "userInput2 = input(\"What is your favorite number between 1 - 100\")\n",
    "userInputInt2 = (int (userInput2))\n",
    "\n",
    "if (userInputInt2 >= 1 and userInputInt2  <= 30): {\n",
    "    print (\"Practice makes perfect\")\n",
    "}\n",
    "elif (userInputInt2 >=31 and userInputInt2 <=60): {\n",
    "    print (\"You can do better\")\n",
    "}\n",
    "elif (userInputInt2 >= 61 and userInputInt2 <= 100): {\n",
    "    print (\"Keep pushing\")\n",
    "}\n",
    "else:{\n",
    "    print (\"You got it right\")\n",
    "}\n",
    "    "
   ]
  },
  {
   "cell_type": "code",
   "execution_count": 32,
   "metadata": {},
   "outputs": [
    {
     "name": "stdout",
     "output_type": "stream",
     "text": [
      "Your favorite meal is  bread , rice , milk , with a glass of  wake\n"
     ]
    }
   ],
   "source": [
    "#Task 3\n",
    "\n",
    "userInputStarter = input(\"What is your favorite starter\")\n",
    "userInputMainCourse = input(\"What is your favorite mainCourse\")\n",
    "userInputDessert = input(\"What is your favorite dessert\")\n",
    "userInputDrink = input(\"What is your favorite drink\")\n",
    "\n",
    "print (\"Your favorite meal is \", userInputStarter, \",\" ,userInputMainCourse, \",\" ,userInputDessert , \", with a glass of \", userInputDrink )\n",
    "\n"
   ]
  }
 ],
 "metadata": {
  "interpreter": {
   "hash": "cf87402a6e9c752c62be5c11867f1b135ddf694774839bc03f72f307f1d8dafb"
  },
  "kernelspec": {
   "display_name": "Python 3.10.2 64-bit",
   "language": "python",
   "name": "python3"
  },
  "language_info": {
   "codemirror_mode": {
    "name": "ipython",
    "version": 3
   },
   "file_extension": ".py",
   "mimetype": "text/x-python",
   "name": "python",
   "nbconvert_exporter": "python",
   "pygments_lexer": "ipython3",
   "version": "3.10.2"
  },
  "orig_nbformat": 4
 },
 "nbformat": 4,
 "nbformat_minor": 2
}
