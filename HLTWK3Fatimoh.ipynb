{
 "cells": [
  {
   "cell_type": "code",
   "execution_count": 2,
   "metadata": {},
   "outputs": [
    {
     "name": "stdout",
     "output_type": "stream",
     "text": [
      "Value after each year is  1800.0\n",
      "Value after each year is  1435.0\n",
      "Value after each year is  1070.0\n"
     ]
    }
   ],
   "source": [
    "# Task 4​\n",
    "\n",
    "# A motorbike costs £2000 and loses 10% of its value every year.\n",
    "#  Using a loop, print the value of the bike every following year \n",
    "#  until it falls below £1000.\n",
    "\n",
    "motorBike = 2000\n",
    "percentageLoss = (10/100 * motorBike) \n",
    "\n",
    "while motorBike > 1000:\n",
    "    print( \"Value after each year is \", motorBike - percentageLoss)    \n",
    "    motorBike = motorBike - 365"
   ]
  },
  {
   "cell_type": "code",
   "execution_count": 87,
   "metadata": {},
   "outputs": [
    {
     "name": "stdout",
     "output_type": "stream",
     "text": [
      "Value after each year is  -1655\n",
      "1635\n"
     ]
    }
   ],
   "source": [
    "# As an extension to the motorbike task that costs £2000 and \n",
    "# loses 10% of its value every year. Set up a function that \n",
    "# performs the calculation by passing in parameters.Then using a \n",
    "# loop, print the value of the bike every following year until \n",
    "# it falls below £1000.\n",
    "def bikeValue(amount):\n",
    "    motorBike = 2000\n",
    "    percentageLoss = (10/100 * motorBike) \n",
    "\n",
    "    while amount > 1000:\n",
    "        print( \"Value after each year is \", motorBike - amount)    \n",
    "        motorBike = motorBike - 365\n",
    "        return motorBike\n",
    "print(bikeValue(3655))"
   ]
  },
  {
   "cell_type": "code",
   "execution_count": 97,
   "metadata": {},
   "outputs": [
    {
     "name": "stdout",
     "output_type": "stream",
     "text": [
      "The value for addition is  10\n"
     ]
    }
   ],
   "source": [
    "# Task 3\n",
    "# •Write a program which will ask for two numbers from a user. \n",
    "# Then offer an option menu to the user giving them a choice of mathsoperators. \n",
    "# Once the user has selected which operator they wish to use, \n",
    "# perform the calculation by using a procedure and passing parameters. \n",
    "\n",
    "def procedure_value (userInput1, userInput2):\n",
    "    userInput1 = int(input(\"Enter you first value\"))\n",
    "    userInput2 = int(input(\"Enter you second value\"))\n",
    "\n",
    "    addition = userInput1 + userInput1\n",
    "    subtraction = userInput2 - userInput2\n",
    "    if (userInput2 == subtraction):\n",
    "        print (\"The total amount after subtraction is \", subtraction)\n",
    "    else :\n",
    "        userInput1 == addition\n",
    "        print(\"The value for addition is \", addition)\n",
    "    \n",
    "procedure_value(3, 5)"
   ]
  }
 ],
 "metadata": {
  "interpreter": {
   "hash": "cf87402a6e9c752c62be5c11867f1b135ddf694774839bc03f72f307f1d8dafb"
  },
  "kernelspec": {
   "display_name": "Python 3.10.2 64-bit",
   "language": "python",
   "name": "python3"
  },
  "language_info": {
   "codemirror_mode": {
    "name": "ipython",
    "version": 3
   },
   "file_extension": ".py",
   "mimetype": "text/x-python",
   "name": "python",
   "nbconvert_exporter": "python",
   "pygments_lexer": "ipython3",
   "version": "3.10.2"
  },
  "orig_nbformat": 4
 },
 "nbformat": 4,
 "nbformat_minor": 2
}
